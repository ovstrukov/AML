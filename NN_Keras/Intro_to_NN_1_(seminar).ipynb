{
  "nbformat": 4,
  "nbformat_minor": 0,
  "metadata": {
    "colab": {
      "name": "Intro to NN 1 (seminar)",
      "provenance": [],
      "collapsed_sections": []
    },
    "kernelspec": {
      "display_name": "Python 3",
      "language": "python",
      "name": "python3"
    },
    "language_info": {
      "codemirror_mode": {
        "name": "ipython",
        "version": 3
      },
      "file_extension": ".py",
      "mimetype": "text/x-python",
      "name": "python",
      "nbconvert_exporter": "python",
      "pygments_lexer": "ipython3",
      "version": "3.7.0"
    },
    "accelerator": "GPU"
  },
  "cells": [
    {
      "cell_type": "markdown",
      "metadata": {
        "id": "28UkISS77u1Y"
      },
      "source": [
        "# Imbalanced classification: credit card fraud detection"
      ]
    },
    {
      "cell_type": "markdown",
      "metadata": {
        "id": "hDqLJbK47u1e"
      },
      "source": [
        "## Introduction\n",
        "\n",
        "This example looks at the\n",
        "[Kaggle Credit Card Fraud Detection](https://www.kaggle.com/mlg-ulb/creditcardfraud/)\n",
        "dataset to demonstrate how\n",
        "to train a classification model on data with highly imbalanced classes."
      ]
    },
    {
      "cell_type": "markdown",
      "metadata": {
        "id": "gvmBj4H57u1f"
      },
      "source": [
        "## First, vectorize the CSV data"
      ]
    },
    {
      "cell_type": "code",
      "metadata": {
        "id": "zMtluoDZIVXc",
        "colab": {
          "base_uri": "https://localhost:8080/"
        },
        "outputId": "db43ca0a-8210-4696-914f-f9284bb10e0b"
      },
      "source": [
        "!wget https://www.dropbox.com/s/9vfy1vi6wsfkxyk/creditcard.csv.zip"
      ],
      "execution_count": null,
      "outputs": [
        {
          "output_type": "stream",
          "text": [
            "--2021-08-16 17:43:47--  https://www.dropbox.com/s/9vfy1vi6wsfkxyk/creditcard.csv.zip\n",
            "Resolving www.dropbox.com (www.dropbox.com)... 162.125.1.18, 2620:100:6016:18::a27d:112\n",
            "Connecting to www.dropbox.com (www.dropbox.com)|162.125.1.18|:443... connected.\n",
            "HTTP request sent, awaiting response... 301 Moved Permanently\n",
            "Location: /s/raw/9vfy1vi6wsfkxyk/creditcard.csv.zip [following]\n",
            "--2021-08-16 17:43:48--  https://www.dropbox.com/s/raw/9vfy1vi6wsfkxyk/creditcard.csv.zip\n",
            "Reusing existing connection to www.dropbox.com:443.\n",
            "HTTP request sent, awaiting response... 302 Found\n",
            "Location: https://uce7401e5df1d51f6d15569725f6.dl.dropboxusercontent.com/cd/0/inline/BUVJTFjWztQLokpiMBdi4_kTB2uEKkJB2jGRLhGZlwI-2gZeAPFIZmx3qMX-xbcP6-kZJ6oDPFwGC33wj4cK9gkHcdXIBveRBitHsNNcElGzaeWMPpzlLypwEcOnsV6XytrmvF2NFBHdTu7Gx8lP9qyZ/file# [following]\n",
            "--2021-08-16 17:43:48--  https://uce7401e5df1d51f6d15569725f6.dl.dropboxusercontent.com/cd/0/inline/BUVJTFjWztQLokpiMBdi4_kTB2uEKkJB2jGRLhGZlwI-2gZeAPFIZmx3qMX-xbcP6-kZJ6oDPFwGC33wj4cK9gkHcdXIBveRBitHsNNcElGzaeWMPpzlLypwEcOnsV6XytrmvF2NFBHdTu7Gx8lP9qyZ/file\n",
            "Resolving uce7401e5df1d51f6d15569725f6.dl.dropboxusercontent.com (uce7401e5df1d51f6d15569725f6.dl.dropboxusercontent.com)... 162.125.1.15, 2620:100:6016:15::a27d:10f\n",
            "Connecting to uce7401e5df1d51f6d15569725f6.dl.dropboxusercontent.com (uce7401e5df1d51f6d15569725f6.dl.dropboxusercontent.com)|162.125.1.15|:443... connected.\n",
            "HTTP request sent, awaiting response... 302 Found\n",
            "Location: /cd/0/inline2/BUXuIoTAH5m7GRF5MQafDsFrUGNyUrQs7G4MlQUpckjkCmPvQM9PkVuDbQz8J7YZlJoEKDlKC7GYIX9W9KTuzrX3c2ZUYFoOUMNev7s-3hwuK3KvfRgt5dTblhIENGvaKlwcqK9QgMo43roCfCGdyXkQLxWWj0JMHqCThR3N4dmyx8Chkk_lKt7basP-rNC9JLI6ako9ltJk_dc_R8vct0ZxU06Ce5oG7uPPESoLyG_TOIkEP2Ip7NXrmxx4RIPODz0mKxHk61ZUfb5DS7STUvyKpvlhvciaoESHSIsVsTsRDMw5AbrCknbScEB0OTx6iP4Z0RyvaTXJLbu8SEZGl25ktgDle2-NtA3UnX4exIz7-soHJxx1a5GrQD9tAJszmkU/file [following]\n",
            "--2021-08-16 17:43:48--  https://uce7401e5df1d51f6d15569725f6.dl.dropboxusercontent.com/cd/0/inline2/BUXuIoTAH5m7GRF5MQafDsFrUGNyUrQs7G4MlQUpckjkCmPvQM9PkVuDbQz8J7YZlJoEKDlKC7GYIX9W9KTuzrX3c2ZUYFoOUMNev7s-3hwuK3KvfRgt5dTblhIENGvaKlwcqK9QgMo43roCfCGdyXkQLxWWj0JMHqCThR3N4dmyx8Chkk_lKt7basP-rNC9JLI6ako9ltJk_dc_R8vct0ZxU06Ce5oG7uPPESoLyG_TOIkEP2Ip7NXrmxx4RIPODz0mKxHk61ZUfb5DS7STUvyKpvlhvciaoESHSIsVsTsRDMw5AbrCknbScEB0OTx6iP4Z0RyvaTXJLbu8SEZGl25ktgDle2-NtA3UnX4exIz7-soHJxx1a5GrQD9tAJszmkU/file\n",
            "Reusing existing connection to uce7401e5df1d51f6d15569725f6.dl.dropboxusercontent.com:443.\n",
            "HTTP request sent, awaiting response... 200 OK\n",
            "Length: 69155672 (66M) [application/zip]\n",
            "Saving to: ‘creditcard.csv.zip’\n",
            "\n",
            "creditcard.csv.zip  100%[===================>]  65.95M  86.2MB/s    in 0.8s    \n",
            "\n",
            "2021-08-16 17:43:49 (86.2 MB/s) - ‘creditcard.csv.zip’ saved [69155672/69155672]\n",
            "\n"
          ],
          "name": "stdout"
        }
      ]
    },
    {
      "cell_type": "code",
      "metadata": {
        "id": "DEOTDjm3IZTE",
        "colab": {
          "base_uri": "https://localhost:8080/"
        },
        "outputId": "8d8b4562-f506-4901-96f8-c1cd44d568db"
      },
      "source": [
        "!unzip creditcard.csv.zip"
      ],
      "execution_count": null,
      "outputs": [
        {
          "output_type": "stream",
          "text": [
            "Archive:  creditcard.csv.zip\n",
            "  inflating: creditcard.csv          \n"
          ],
          "name": "stdout"
        }
      ]
    },
    {
      "cell_type": "code",
      "metadata": {
        "id": "3MEGFeBC7u1f",
        "colab": {
          "base_uri": "https://localhost:8080/"
        },
        "outputId": "299fa73e-f9bd-4826-f315-55353903052b"
      },
      "source": [
        "import csv\n",
        "import numpy as np\n",
        "\n",
        "# Get the real data from https://www.kaggle.com/mlg-ulb/creditcardfraud/\n",
        "fname = \"creditcard.csv\"\n",
        "\n",
        "all_features = []\n",
        "all_targets = []\n",
        "with open(fname) as f:\n",
        "    for i, line in enumerate(f):\n",
        "        if i == 0:\n",
        "            print(\"HEADER:\", line.strip())\n",
        "            continue  # Skip header\n",
        "        fields = line.strip().split(\",\")\n",
        "        all_features.append([float(v.replace('\"', \"\")) for v in fields[:-1]])\n",
        "        all_targets.append([int(fields[-1].replace('\"', \"\"))])\n",
        "        if i == 1:\n",
        "            print(\"EXAMPLE FEATURES:\", all_features[-1])\n",
        "\n",
        "features = np.array(all_features, dtype=\"float32\")\n",
        "targets = np.array(all_targets, dtype=\"uint8\")\n",
        "print(\"features.shape:\", features.shape)\n",
        "print(\"targets.shape:\", targets.shape)\n"
      ],
      "execution_count": null,
      "outputs": [
        {
          "output_type": "stream",
          "text": [
            "HEADER: \"Time\",\"V1\",\"V2\",\"V3\",\"V4\",\"V5\",\"V6\",\"V7\",\"V8\",\"V9\",\"V10\",\"V11\",\"V12\",\"V13\",\"V14\",\"V15\",\"V16\",\"V17\",\"V18\",\"V19\",\"V20\",\"V21\",\"V22\",\"V23\",\"V24\",\"V25\",\"V26\",\"V27\",\"V28\",\"Amount\",\"Class\"\n",
            "EXAMPLE FEATURES: [0.0, -1.3598071336738, -0.0727811733098497, 2.53634673796914, 1.37815522427443, -0.338320769942518, 0.462387777762292, 0.239598554061257, 0.0986979012610507, 0.363786969611213, 0.0907941719789316, -0.551599533260813, -0.617800855762348, -0.991389847235408, -0.311169353699879, 1.46817697209427, -0.470400525259478, 0.207971241929242, 0.0257905801985591, 0.403992960255733, 0.251412098239705, -0.018306777944153, 0.277837575558899, -0.110473910188767, 0.0669280749146731, 0.128539358273528, -0.189114843888824, 0.133558376740387, -0.0210530534538215, 149.62]\n",
            "features.shape: (284807, 30)\n",
            "targets.shape: (284807, 1)\n"
          ],
          "name": "stdout"
        }
      ]
    },
    {
      "cell_type": "code",
      "metadata": {
        "id": "ntYR7cRKEJMk"
      },
      "source": [
        ""
      ],
      "execution_count": null,
      "outputs": []
    },
    {
      "cell_type": "markdown",
      "metadata": {
        "id": "IpiTu_U37u1g"
      },
      "source": [
        "## Prepare a validation set"
      ]
    },
    {
      "cell_type": "code",
      "metadata": {
        "id": "GscjzN_X7u1h",
        "colab": {
          "base_uri": "https://localhost:8080/"
        },
        "outputId": "ca4efccd-50a9-48f3-c3e6-1ea29b2be827"
      },
      "source": [
        "num_val_samples = int(len(features) * 0.2)\n",
        "train_features = features[:-num_val_samples]\n",
        "train_targets = targets[:-num_val_samples]\n",
        "val_features = features[-num_val_samples:]\n",
        "val_targets = targets[-num_val_samples:]\n",
        "\n",
        "print(\"Number of training samples:\", len(train_features))\n",
        "print(\"Number of validation samples:\", len(val_features))\n"
      ],
      "execution_count": null,
      "outputs": [
        {
          "output_type": "stream",
          "text": [
            "Number of training samples: 227846\n",
            "Number of validation samples: 56961\n"
          ],
          "name": "stdout"
        }
      ]
    },
    {
      "cell_type": "markdown",
      "metadata": {
        "id": "hr2UHtRF7u1h"
      },
      "source": [
        "## Analyze class imbalance in the targets"
      ]
    },
    {
      "cell_type": "code",
      "metadata": {
        "id": "bA501v367u1h",
        "colab": {
          "base_uri": "https://localhost:8080/"
        },
        "outputId": "87fad335-313b-490e-bc90-80cc8d2ba290"
      },
      "source": [
        "counts = np.bincount(train_targets[:, 0])\n",
        "print(\n",
        "    \"Number of positive samples in training data: {} ({:.2f}% of total)\".format(\n",
        "        counts[1], 100 * float(counts[1]) / len(train_targets)\n",
        "    )\n",
        ")\n",
        "\n",
        "weight_for_0 = 1.0 / counts[0]\n",
        "weight_for_1 = 1.0 / counts[1]\n"
      ],
      "execution_count": null,
      "outputs": [
        {
          "output_type": "stream",
          "text": [
            "Number of positive samples in training data: 417 (0.18% of total)\n"
          ],
          "name": "stdout"
        }
      ]
    },
    {
      "cell_type": "markdown",
      "metadata": {
        "id": "1BjXTqzs7u1h"
      },
      "source": [
        "## Normalize the data using training set statistics"
      ]
    },
    {
      "cell_type": "code",
      "metadata": {
        "id": "LU9mk2Dk7u1i"
      },
      "source": [
        "mean = np.mean(train_features, axis=0)\n",
        "train_features -= mean\n",
        "val_features -= mean\n",
        "std = np.std(train_features, axis=0)\n",
        "train_features /= std\n",
        "val_features /= std\n"
      ],
      "execution_count": null,
      "outputs": []
    },
    {
      "cell_type": "markdown",
      "metadata": {
        "id": "QZbr3bsl7u1i"
      },
      "source": [
        "## Build a binary classification model"
      ]
    },
    {
      "cell_type": "code",
      "metadata": {
        "id": "1jgMgQLL7u1i",
        "colab": {
          "base_uri": "https://localhost:8080/"
        },
        "outputId": "057b8231-605f-470d-fac7-58781f052005"
      },
      "source": [
        "from tensorflow import keras\n",
        "\n",
        "hid_size = 256\n",
        "model = keras.Sequential(\n",
        "    [\n",
        "        keras.layers.Dense(\n",
        "            hid_size, activation=\"relu\", input_shape=(train_features.shape[-1],)\n",
        "        ), # fully-connected y^1\n",
        "        keras.layers.Dense(hid_size, activation=\"relu\"), # y^2\n",
        "        keras.layers.Dropout(0.3),\n",
        "        keras.layers.Dense(hid_size, activation=\"relu\"), # y^3\n",
        "        keras.layers.Dropout(0.3),\n",
        "        keras.layers.Dense(1, activation=\"sigmoid\"), # y^4\n",
        "    ]\n",
        ")\n",
        "model.summary()\n",
        "\n",
        "# x_1 = x_2\n",
        "# w_1 w_2\n",
        "# w_1 = -w_2\n",
        "\n",
        "# w_1 * x_1 + w_2 * x_2 = 0"
      ],
      "execution_count": null,
      "outputs": [
        {
          "output_type": "stream",
          "text": [
            "Model: \"sequential\"\n",
            "_________________________________________________________________\n",
            "Layer (type)                 Output Shape              Param #   \n",
            "=================================================================\n",
            "dense (Dense)                (None, 256)               7936      \n",
            "_________________________________________________________________\n",
            "dense_1 (Dense)              (None, 256)               65792     \n",
            "_________________________________________________________________\n",
            "dropout (Dropout)            (None, 256)               0         \n",
            "_________________________________________________________________\n",
            "dense_2 (Dense)              (None, 256)               65792     \n",
            "_________________________________________________________________\n",
            "dropout_1 (Dropout)          (None, 256)               0         \n",
            "_________________________________________________________________\n",
            "dense_3 (Dense)              (None, 1)                 257       \n",
            "=================================================================\n",
            "Total params: 139,777\n",
            "Trainable params: 139,777\n",
            "Non-trainable params: 0\n",
            "_________________________________________________________________\n"
          ],
          "name": "stdout"
        }
      ]
    },
    {
      "cell_type": "code",
      "metadata": {
        "colab": {
          "base_uri": "https://localhost:8080/"
        },
        "id": "KDV3zFyrFsYK",
        "outputId": "c7e936d6-6a5c-46b3-ad8d-ac370f3b61d5"
      },
      "source": [
        "256*256 + 256"
      ],
      "execution_count": null,
      "outputs": [
        {
          "output_type": "execute_result",
          "data": {
            "text/plain": [
              "65792"
            ]
          },
          "metadata": {
            "tags": []
          },
          "execution_count": 15
        }
      ]
    },
    {
      "cell_type": "markdown",
      "metadata": {
        "id": "nKJF0uxs7u1j"
      },
      "source": [
        "## Train the model with `class_weight` argument"
      ]
    },
    {
      "cell_type": "code",
      "metadata": {
        "colab": {
          "base_uri": "https://localhost:8080/"
        },
        "id": "RqdVEoAbGsid",
        "outputId": "78b87232-ab87-4302-c4e8-6833b032e0a9"
      },
      "source": [
        "weight_for_0, weight_for_1"
      ],
      "execution_count": null,
      "outputs": [
        {
          "output_type": "execute_result",
          "data": {
            "text/plain": [
              "(4.396976638863118e-06, 0.002398081534772182)"
            ]
          },
          "metadata": {
            "tags": []
          },
          "execution_count": 17
        }
      ]
    },
    {
      "cell_type": "code",
      "metadata": {
        "id": "47TFfEAQ7u1j",
        "colab": {
          "base_uri": "https://localhost:8080/"
        },
        "outputId": "9cb0a872-f2c9-48cd-e662-e72753b213c3"
      },
      "source": [
        "metrics = [\n",
        "    keras.metrics.FalseNegatives(name=\"fn\"),\n",
        "    keras.metrics.FalsePositives(name=\"fp\"),\n",
        "    keras.metrics.TrueNegatives(name=\"tn\"),\n",
        "    keras.metrics.TruePositives(name=\"tp\"),\n",
        "    keras.metrics.Precision(name=\"precision\"),\n",
        "    keras.metrics.Recall(name=\"recall\"),\n",
        "]\n",
        "\n",
        "model.compile(\n",
        "    optimizer=keras.optimizers.Adam(1e-2), loss=\"binary_crossentropy\", metrics=metrics\n",
        ")\n",
        "\n",
        "callbacks = [keras.callbacks.ModelCheckpoint(\"fraud_model_at_epoch_{epoch}.h5\")]\n",
        "class_weight = {0: weight_for_0, 1: weight_for_1}\n",
        "\n",
        "model.fit(\n",
        "    train_features,\n",
        "    train_targets,\n",
        "    batch_size=2048,\n",
        "    epochs=30,\n",
        "    verbose=2,\n",
        "    callbacks=callbacks,\n",
        "    validation_data=(val_features, val_targets),\n",
        "    class_weight=class_weight,\n",
        ")\n"
      ],
      "execution_count": null,
      "outputs": [
        {
          "output_type": "stream",
          "text": [
            "WARNING:tensorflow:From /usr/local/lib/python3.7/dist-packages/tensorflow/python/ops/array_ops.py:5049: calling gather (from tensorflow.python.ops.array_ops) with validate_indices is deprecated and will be removed in a future version.\n",
            "Instructions for updating:\n",
            "The `validate_indices` argument has no effect. Indices are always validated on CPU and never validated on GPU.\n",
            "Epoch 1/30\n",
            "112/112 - 5s - loss: 2.3364e-06 - fn: 44.0000 - fp: 14198.0000 - tn: 213231.0000 - tp: 373.0000 - precision: 0.0256 - recall: 0.8945 - val_loss: 0.0847 - val_fn: 10.0000 - val_fp: 319.0000 - val_tn: 56567.0000 - val_tp: 65.0000 - val_precision: 0.1693 - val_recall: 0.8667\n",
            "Epoch 2/30\n",
            "112/112 - 1s - loss: 1.4518e-06 - fn: 39.0000 - fp: 6683.0000 - tn: 220746.0000 - tp: 378.0000 - precision: 0.0535 - recall: 0.9065 - val_loss: 0.0820 - val_fn: 8.0000 - val_fp: 1125.0000 - val_tn: 55761.0000 - val_tp: 67.0000 - val_precision: 0.0562 - val_recall: 0.8933\n",
            "Epoch 3/30\n",
            "112/112 - 1s - loss: 1.0537e-06 - fn: 27.0000 - fp: 7394.0000 - tn: 220035.0000 - tp: 390.0000 - precision: 0.0501 - recall: 0.9353 - val_loss: 0.0696 - val_fn: 9.0000 - val_fp: 998.0000 - val_tn: 55888.0000 - val_tp: 66.0000 - val_precision: 0.0620 - val_recall: 0.8800\n",
            "Epoch 4/30\n",
            "112/112 - 1s - loss: 1.0386e-06 - fn: 26.0000 - fp: 6129.0000 - tn: 221300.0000 - tp: 391.0000 - precision: 0.0600 - recall: 0.9376 - val_loss: 0.0436 - val_fn: 7.0000 - val_fp: 857.0000 - val_tn: 56029.0000 - val_tp: 68.0000 - val_precision: 0.0735 - val_recall: 0.9067\n",
            "Epoch 5/30\n",
            "112/112 - 1s - loss: 8.7984e-07 - fn: 20.0000 - fp: 7676.0000 - tn: 219753.0000 - tp: 397.0000 - precision: 0.0492 - recall: 0.9520 - val_loss: 0.0894 - val_fn: 6.0000 - val_fp: 1965.0000 - val_tn: 54921.0000 - val_tp: 69.0000 - val_precision: 0.0339 - val_recall: 0.9200\n",
            "Epoch 6/30\n",
            "112/112 - 1s - loss: 9.8222e-07 - fn: 21.0000 - fp: 7659.0000 - tn: 219770.0000 - tp: 396.0000 - precision: 0.0492 - recall: 0.9496 - val_loss: 0.0408 - val_fn: 8.0000 - val_fp: 750.0000 - val_tn: 56136.0000 - val_tp: 67.0000 - val_precision: 0.0820 - val_recall: 0.8933\n",
            "Epoch 7/30\n",
            "112/112 - 1s - loss: 7.1843e-07 - fn: 19.0000 - fp: 5220.0000 - tn: 222209.0000 - tp: 398.0000 - precision: 0.0708 - recall: 0.9544 - val_loss: 0.0749 - val_fn: 8.0000 - val_fp: 1487.0000 - val_tn: 55399.0000 - val_tp: 67.0000 - val_precision: 0.0431 - val_recall: 0.8933\n",
            "Epoch 8/30\n",
            "112/112 - 1s - loss: 6.8915e-07 - fn: 11.0000 - fp: 6665.0000 - tn: 220764.0000 - tp: 406.0000 - precision: 0.0574 - recall: 0.9736 - val_loss: 0.0521 - val_fn: 10.0000 - val_fp: 893.0000 - val_tn: 55993.0000 - val_tp: 65.0000 - val_precision: 0.0678 - val_recall: 0.8667\n",
            "Epoch 9/30\n",
            "112/112 - 1s - loss: 6.9370e-07 - fn: 12.0000 - fp: 6463.0000 - tn: 220966.0000 - tp: 405.0000 - precision: 0.0590 - recall: 0.9712 - val_loss: 0.0751 - val_fn: 8.0000 - val_fp: 1708.0000 - val_tn: 55178.0000 - val_tp: 67.0000 - val_precision: 0.0377 - val_recall: 0.8933\n",
            "Epoch 10/30\n",
            "112/112 - 1s - loss: 5.3089e-07 - fn: 10.0000 - fp: 5885.0000 - tn: 221544.0000 - tp: 407.0000 - precision: 0.0647 - recall: 0.9760 - val_loss: 0.0338 - val_fn: 10.0000 - val_fp: 837.0000 - val_tn: 56049.0000 - val_tp: 65.0000 - val_precision: 0.0721 - val_recall: 0.8667\n",
            "Epoch 11/30\n",
            "112/112 - 1s - loss: 5.8230e-07 - fn: 12.0000 - fp: 7517.0000 - tn: 219912.0000 - tp: 405.0000 - precision: 0.0511 - recall: 0.9712 - val_loss: 0.0224 - val_fn: 9.0000 - val_fp: 404.0000 - val_tn: 56482.0000 - val_tp: 66.0000 - val_precision: 0.1404 - val_recall: 0.8800\n",
            "Epoch 12/30\n",
            "112/112 - 1s - loss: 4.9908e-07 - fn: 8.0000 - fp: 6155.0000 - tn: 221274.0000 - tp: 409.0000 - precision: 0.0623 - recall: 0.9808 - val_loss: 0.0185 - val_fn: 10.0000 - val_fp: 415.0000 - val_tn: 56471.0000 - val_tp: 65.0000 - val_precision: 0.1354 - val_recall: 0.8667\n",
            "Epoch 13/30\n",
            "112/112 - 1s - loss: 7.3520e-07 - fn: 12.0000 - fp: 8330.0000 - tn: 219099.0000 - tp: 405.0000 - precision: 0.0464 - recall: 0.9712 - val_loss: 0.0298 - val_fn: 10.0000 - val_fp: 334.0000 - val_tn: 56552.0000 - val_tp: 65.0000 - val_precision: 0.1629 - val_recall: 0.8667\n",
            "Epoch 14/30\n",
            "112/112 - 1s - loss: 7.4818e-07 - fn: 11.0000 - fp: 6061.0000 - tn: 221368.0000 - tp: 406.0000 - precision: 0.0628 - recall: 0.9736 - val_loss: 0.0716 - val_fn: 6.0000 - val_fp: 1633.0000 - val_tn: 55253.0000 - val_tp: 69.0000 - val_precision: 0.0405 - val_recall: 0.9200\n",
            "Epoch 15/30\n",
            "112/112 - 1s - loss: 5.6908e-07 - fn: 8.0000 - fp: 5721.0000 - tn: 221708.0000 - tp: 409.0000 - precision: 0.0667 - recall: 0.9808 - val_loss: 0.0515 - val_fn: 6.0000 - val_fp: 916.0000 - val_tn: 55970.0000 - val_tp: 69.0000 - val_precision: 0.0701 - val_recall: 0.9200\n",
            "Epoch 16/30\n",
            "112/112 - 1s - loss: 3.8627e-07 - fn: 6.0000 - fp: 3765.0000 - tn: 223664.0000 - tp: 411.0000 - precision: 0.0984 - recall: 0.9856 - val_loss: 0.0207 - val_fn: 11.0000 - val_fp: 368.0000 - val_tn: 56518.0000 - val_tp: 64.0000 - val_precision: 0.1481 - val_recall: 0.8533\n",
            "Epoch 17/30\n",
            "112/112 - 1s - loss: 3.1868e-07 - fn: 4.0000 - fp: 3946.0000 - tn: 223483.0000 - tp: 413.0000 - precision: 0.0947 - recall: 0.9904 - val_loss: 0.0154 - val_fn: 10.0000 - val_fp: 283.0000 - val_tn: 56603.0000 - val_tp: 65.0000 - val_precision: 0.1868 - val_recall: 0.8667\n",
            "Epoch 18/30\n",
            "112/112 - 1s - loss: 4.6444e-07 - fn: 8.0000 - fp: 5050.0000 - tn: 222379.0000 - tp: 409.0000 - precision: 0.0749 - recall: 0.9808 - val_loss: 0.0408 - val_fn: 9.0000 - val_fp: 920.0000 - val_tn: 55966.0000 - val_tp: 66.0000 - val_precision: 0.0669 - val_recall: 0.8800\n",
            "Epoch 19/30\n",
            "112/112 - 1s - loss: 4.1194e-07 - fn: 5.0000 - fp: 5146.0000 - tn: 222283.0000 - tp: 412.0000 - precision: 0.0741 - recall: 0.9880 - val_loss: 0.0233 - val_fn: 7.0000 - val_fp: 582.0000 - val_tn: 56304.0000 - val_tp: 68.0000 - val_precision: 0.1046 - val_recall: 0.9067\n",
            "Epoch 20/30\n",
            "112/112 - 1s - loss: 1.0234e-06 - fn: 10.0000 - fp: 7331.0000 - tn: 220098.0000 - tp: 407.0000 - precision: 0.0526 - recall: 0.9760 - val_loss: 0.0693 - val_fn: 8.0000 - val_fp: 1039.0000 - val_tn: 55847.0000 - val_tp: 67.0000 - val_precision: 0.0606 - val_recall: 0.8933\n",
            "Epoch 21/30\n",
            "112/112 - 1s - loss: 8.3377e-07 - fn: 15.0000 - fp: 5608.0000 - tn: 221821.0000 - tp: 402.0000 - precision: 0.0669 - recall: 0.9640 - val_loss: 0.0544 - val_fn: 8.0000 - val_fp: 1104.0000 - val_tn: 55782.0000 - val_tp: 67.0000 - val_precision: 0.0572 - val_recall: 0.8933\n",
            "Epoch 22/30\n",
            "112/112 - 1s - loss: 1.8434e-06 - fn: 11.0000 - fp: 5769.0000 - tn: 221660.0000 - tp: 406.0000 - precision: 0.0657 - recall: 0.9736 - val_loss: 0.1218 - val_fn: 8.0000 - val_fp: 1019.0000 - val_tn: 55867.0000 - val_tp: 67.0000 - val_precision: 0.0617 - val_recall: 0.8933\n",
            "Epoch 23/30\n",
            "112/112 - 1s - loss: 2.0636e-06 - fn: 15.0000 - fp: 5496.0000 - tn: 221933.0000 - tp: 402.0000 - precision: 0.0682 - recall: 0.9640 - val_loss: 0.0451 - val_fn: 9.0000 - val_fp: 652.0000 - val_tn: 56234.0000 - val_tp: 66.0000 - val_precision: 0.0919 - val_recall: 0.8800\n",
            "Epoch 24/30\n",
            "112/112 - 1s - loss: 1.5951e-06 - fn: 6.0000 - fp: 5220.0000 - tn: 222209.0000 - tp: 411.0000 - precision: 0.0730 - recall: 0.9856 - val_loss: 0.0424 - val_fn: 13.0000 - val_fp: 138.0000 - val_tn: 56748.0000 - val_tp: 62.0000 - val_precision: 0.3100 - val_recall: 0.8267\n",
            "Epoch 25/30\n",
            "112/112 - 1s - loss: 5.7239e-06 - fn: 21.0000 - fp: 7437.0000 - tn: 219992.0000 - tp: 396.0000 - precision: 0.0506 - recall: 0.9496 - val_loss: 0.1556 - val_fn: 16.0000 - val_fp: 83.0000 - val_tn: 56803.0000 - val_tp: 59.0000 - val_precision: 0.4155 - val_recall: 0.7867\n",
            "Epoch 26/30\n",
            "112/112 - 1s - loss: 3.7386e-06 - fn: 17.0000 - fp: 6720.0000 - tn: 220709.0000 - tp: 400.0000 - precision: 0.0562 - recall: 0.9592 - val_loss: 0.0794 - val_fn: 11.0000 - val_fp: 638.0000 - val_tn: 56248.0000 - val_tp: 64.0000 - val_precision: 0.0912 - val_recall: 0.8533\n",
            "Epoch 27/30\n",
            "112/112 - 1s - loss: 6.6802e-06 - fn: 19.0000 - fp: 7224.0000 - tn: 220205.0000 - tp: 398.0000 - precision: 0.0522 - recall: 0.9544 - val_loss: 0.1660 - val_fn: 9.0000 - val_fp: 502.0000 - val_tn: 56384.0000 - val_tp: 66.0000 - val_precision: 0.1162 - val_recall: 0.8800\n",
            "Epoch 28/30\n",
            "112/112 - 1s - loss: 3.0201e-06 - fn: 15.0000 - fp: 4554.0000 - tn: 222875.0000 - tp: 402.0000 - precision: 0.0811 - recall: 0.9640 - val_loss: 0.1551 - val_fn: 10.0000 - val_fp: 327.0000 - val_tn: 56559.0000 - val_tp: 65.0000 - val_precision: 0.1658 - val_recall: 0.8667\n",
            "Epoch 29/30\n",
            "112/112 - 1s - loss: 1.6626e-06 - fn: 9.0000 - fp: 5492.0000 - tn: 221937.0000 - tp: 408.0000 - precision: 0.0692 - recall: 0.9784 - val_loss: 0.0654 - val_fn: 9.0000 - val_fp: 684.0000 - val_tn: 56202.0000 - val_tp: 66.0000 - val_precision: 0.0880 - val_recall: 0.8800\n",
            "Epoch 30/30\n",
            "112/112 - 1s - loss: 1.0504e-06 - fn: 9.0000 - fp: 5363.0000 - tn: 222066.0000 - tp: 408.0000 - precision: 0.0707 - recall: 0.9784 - val_loss: 0.0479 - val_fn: 11.0000 - val_fp: 481.0000 - val_tn: 56405.0000 - val_tp: 64.0000 - val_precision: 0.1174 - val_recall: 0.8533\n"
          ],
          "name": "stdout"
        },
        {
          "output_type": "execute_result",
          "data": {
            "text/plain": [
              "<tensorflow.python.keras.callbacks.History at 0x7f35106bafd0>"
            ]
          },
          "metadata": {
            "tags": []
          },
          "execution_count": 18
        }
      ]
    },
    {
      "cell_type": "code",
      "metadata": {
        "id": "5H6kSubzVpzA"
      },
      "source": [
        "A#    P(1)   N(0)\n",
        "# T\n",
        "# F"
      ],
      "execution_count": null,
      "outputs": []
    },
    {
      "cell_type": "code",
      "metadata": {
        "id": "UOiK9jgiT0Ho"
      },
      "source": [
        "# n_samples ~ 300000\n",
        "# batch_size ~ 3000\n",
        "# n_steps ~ 100\n",
        "# n_epochs ~ 1"
      ],
      "execution_count": null,
      "outputs": []
    },
    {
      "cell_type": "code",
      "metadata": {
        "id": "3v2KoZ_RUs5j",
        "colab": {
          "base_uri": "https://localhost:8080/"
        },
        "outputId": "ce81b78b-8345-489d-c82c-2cfd8c6a6074"
      },
      "source": [
        "model.predict(val_features)"
      ],
      "execution_count": null,
      "outputs": [
        {
          "output_type": "execute_result",
          "data": {
            "text/plain": [
              "array([[1.41994867e-14],\n",
              "       [2.99772811e-11],\n",
              "       [2.47642020e-16],\n",
              "       ...,\n",
              "       [1.21244150e-12],\n",
              "       [1.12310064e-10],\n",
              "       [1.35234939e-02]], dtype=float32)"
            ]
          },
          "metadata": {
            "tags": []
          },
          "execution_count": 19
        }
      ]
    },
    {
      "cell_type": "code",
      "metadata": {
        "id": "rwHIpuomH3mS",
        "colab": {
          "base_uri": "https://localhost:8080/"
        },
        "outputId": "cc9c93c8-0fa5-46a3-910a-a0f7082d0d3b"
      },
      "source": [
        "val_targets"
      ],
      "execution_count": null,
      "outputs": [
        {
          "output_type": "execute_result",
          "data": {
            "text/plain": [
              "array([[0],\n",
              "       [0],\n",
              "       [0],\n",
              "       ...,\n",
              "       [0],\n",
              "       [0],\n",
              "       [0]], dtype=uint8)"
            ]
          },
          "metadata": {
            "tags": []
          },
          "execution_count": 20
        }
      ]
    },
    {
      "cell_type": "markdown",
      "metadata": {
        "id": "i9UDuY9I7u1j"
      },
      "source": [
        "## Conclusions\n",
        "\n",
        "At the end of training, out of 56,961 validation transactions, we are:\n",
        "\n",
        "- Correctly identifying 66 of them as fraudulent\n",
        "- Missing 9 fraudulent transactions\n",
        "- At the cost of incorrectly flagging 441 legitimate transactions\n",
        "\n",
        "In the real world, one would put an even higher weight on class 1,\n",
        "so as to reflect that False Negatives are more costly than False Positives.\n",
        "\n",
        "Next time your credit card gets  declined in an online purchase -- this is why."
      ]
    }
  ]
}