{
 "cells": [
  {
   "cell_type": "markdown",
   "metadata": {},
   "source": [
    "Необходимо запустить практическую часть занятия, и посмотреть самому то, о чём говорили на лекции. По образу практики, попробуйте создать искусственный датасет с лишними столбцами. Целевую метку, при правильной обработке данных, формируйте таким образом, чтобы без затруднений её смогла описать линейная модель. Ориентируйтесь на то, что было показано во время занятия, и каждый шаг описывайте в markdown. Здесь важно видеть ваш ход мысли. Не бойтесь ошибиться или написать не то. Данное задание не имеет какого-то “правильного” решения. Цель - достичь базового понимания проблемы. Чем больше вы фантазируете, тем лучше :) Тем не менее, старайтесь представить те ситуации, которые по-вашему мнению могли бы быть в реальных данных. Успеха!"
   ]
  },
  {
   "cell_type": "code",
   "execution_count": 1,
   "metadata": {},
   "outputs": [],
   "source": [
    "import numpy as np\n",
    "import pandas as pd\n",
    "import seaborn as sns\n",
    "\n",
    "from sklearn.linear_model import LinearRegression"
   ]
  },
  {
   "cell_type": "code",
   "execution_count": 37,
   "metadata": {},
   "outputs": [
    {
     "data": {
      "text/html": [
       "<div>\n",
       "<style scoped>\n",
       "    .dataframe tbody tr th:only-of-type {\n",
       "        vertical-align: middle;\n",
       "    }\n",
       "\n",
       "    .dataframe tbody tr th {\n",
       "        vertical-align: top;\n",
       "    }\n",
       "\n",
       "    .dataframe thead th {\n",
       "        text-align: right;\n",
       "    }\n",
       "</style>\n",
       "<table border=\"1\" class=\"dataframe\">\n",
       "  <thead>\n",
       "    <tr style=\"text-align: right;\">\n",
       "      <th></th>\n",
       "      <th>bus</th>\n",
       "      <th>travel_time</th>\n",
       "      <th>traffic_jams</th>\n",
       "      <th>inteval</th>\n",
       "    </tr>\n",
       "  </thead>\n",
       "  <tbody>\n",
       "    <tr>\n",
       "      <th>0</th>\n",
       "      <td>14</td>\n",
       "      <td>105</td>\n",
       "      <td>7</td>\n",
       "      <td>19.500000</td>\n",
       "    </tr>\n",
       "    <tr>\n",
       "      <th>1</th>\n",
       "      <td>39</td>\n",
       "      <td>25</td>\n",
       "      <td>7</td>\n",
       "      <td>12.641026</td>\n",
       "    </tr>\n",
       "    <tr>\n",
       "      <th>2</th>\n",
       "      <td>57</td>\n",
       "      <td>88</td>\n",
       "      <td>6</td>\n",
       "      <td>12.543860</td>\n",
       "    </tr>\n",
       "    <tr>\n",
       "      <th>3</th>\n",
       "      <td>17</td>\n",
       "      <td>102</td>\n",
       "      <td>8</td>\n",
       "      <td>19.000000</td>\n",
       "    </tr>\n",
       "    <tr>\n",
       "      <th>4</th>\n",
       "      <td>53</td>\n",
       "      <td>61</td>\n",
       "      <td>2</td>\n",
       "      <td>8.150943</td>\n",
       "    </tr>\n",
       "  </tbody>\n",
       "</table>\n",
       "</div>"
      ],
      "text/plain": [
       "   bus  travel_time  traffic_jams    inteval\n",
       "0   14          105             7  19.500000\n",
       "1   39           25             7  12.641026\n",
       "2   57           88             6  12.543860\n",
       "3   17          102             8  19.000000\n",
       "4   53           61             2   8.150943"
      ]
     },
     "execution_count": 37,
     "metadata": {},
     "output_type": "execute_result"
    }
   ],
   "source": [
    "# Создаём сэмпл\n",
    "n_samples = 1000\n",
    "\n",
    "# сгенерируем синтетический датасет с данными об интервалах пассажирских перевозок в городе\n",
    "# в качестве столбцов датасета возьмем сгенерируем следующие данные:\n",
    "# bus -количество автобусов на линии\n",
    "# travel_time - время автобуса от конечной до конечной\n",
    "# traffic_jams - средняя загруженность дорог по данным  соответствующего сервиса\n",
    "# inteval -интервал движения автобуса\n",
    "\n",
    "bus = np.random.choice(50, n_samples) +10\n",
    "travel_time = np.random.choice(100, n_samples) + 15\n",
    "traffic_jams = np.random.choice(10, n_samples)\n",
    "\n",
    "#опишем зависимость интервала от параметров датасета следующим образом\n",
    "inteval = travel_time / bus + traffic_jams + 5\n",
    "\n",
    "data = pd.DataFrame({'bus': bus, 'travel_time': travel_time, 'traffic_jams': traffic_jams, 'inteval': inteval})\n",
    "data.head(5)"
   ]
  },
  {
   "cell_type": "code",
   "execution_count": 28,
   "metadata": {},
   "outputs": [
    {
     "name": "stdout",
     "output_type": "stream",
     "text": [
      "Weights: [-0.08252881  0.03755869  0.98799004]\n",
      "Bias: 7.875297150699722\n",
      "Error: 0.6318343565837952\n"
     ]
    }
   ],
   "source": [
    "from sklearn.metrics import mean_absolute_error\n",
    "\n",
    "\n",
    "# попробуем предсказать значения интервала  по всем столбцам датасета на основе линейной регрессии\n",
    "\n",
    "X = data[['bus', 'travel_time', 'traffic_jams']]\n",
    "y = data['inteval']\n",
    "reg = LinearRegression().fit(X, y)\n",
    "print('Weights: {}'.format(reg.coef_))\n",
    "print('Bias: {}'.format(reg.intercept_))\n",
    "\n",
    "pred_values = reg.predict(data[['bus', 'travel_time', 'traffic_jams']])\n",
    "print('Error: {}'.format(mean_absolute_error(pred_values, y)))"
   ]
  },
  {
   "cell_type": "markdown",
   "metadata": {},
   "source": [
    "видим,что модель достаточно неплохо справилась с описанием зависимости, подобрав коэффициенты для каждой из переменных (столбцов датасета)"
   ]
  },
  {
   "cell_type": "code",
   "execution_count": 39,
   "metadata": {},
   "outputs": [
    {
     "name": "stdout",
     "output_type": "stream",
     "text": [
      "Weights: [-0.09297395  0.03582603]\n",
      "Bias: 12.77356503715379\n",
      "Error: 2.5630506850750767\n"
     ]
    }
   ],
   "source": [
    "X = data[['bus', 'travel_time']]\n",
    "y = data['inteval']\n",
    "reg = LinearRegression().fit(X, y)\n",
    "print('Weights: {}'.format(reg.coef_))\n",
    "print('Bias: {}'.format(reg.intercept_))\n",
    "\n",
    "pred_values = reg.predict(data[['bus', 'travel_time']])\n",
    "print('Error: {}'.format(mean_absolute_error(pred_values, y)))"
   ]
  },
  {
   "cell_type": "markdown",
   "metadata": {},
   "source": [
    "Построив  аналогичную линейную регрессию, но только от двух признаков 'bus', 'travel_time', видим, что ошибка предсказания значительно увеличилась"
   ]
  },
  {
   "cell_type": "code",
   "execution_count": 41,
   "metadata": {},
   "outputs": [
    {
     "data": {
      "text/html": [
       "<div>\n",
       "<style scoped>\n",
       "    .dataframe tbody tr th:only-of-type {\n",
       "        vertical-align: middle;\n",
       "    }\n",
       "\n",
       "    .dataframe tbody tr th {\n",
       "        vertical-align: top;\n",
       "    }\n",
       "\n",
       "    .dataframe thead th {\n",
       "        text-align: right;\n",
       "    }\n",
       "</style>\n",
       "<table border=\"1\" class=\"dataframe\">\n",
       "  <thead>\n",
       "    <tr style=\"text-align: right;\">\n",
       "      <th></th>\n",
       "      <th>bus</th>\n",
       "      <th>travel_time</th>\n",
       "      <th>traffic_jams</th>\n",
       "      <th>inteval</th>\n",
       "      <th>int</th>\n",
       "    </tr>\n",
       "  </thead>\n",
       "  <tbody>\n",
       "    <tr>\n",
       "      <th>0</th>\n",
       "      <td>14</td>\n",
       "      <td>105</td>\n",
       "      <td>7</td>\n",
       "      <td>19.500000</td>\n",
       "      <td>7.500000</td>\n",
       "    </tr>\n",
       "    <tr>\n",
       "      <th>1</th>\n",
       "      <td>39</td>\n",
       "      <td>25</td>\n",
       "      <td>7</td>\n",
       "      <td>12.641026</td>\n",
       "      <td>0.641026</td>\n",
       "    </tr>\n",
       "    <tr>\n",
       "      <th>2</th>\n",
       "      <td>57</td>\n",
       "      <td>88</td>\n",
       "      <td>6</td>\n",
       "      <td>12.543860</td>\n",
       "      <td>1.543860</td>\n",
       "    </tr>\n",
       "    <tr>\n",
       "      <th>3</th>\n",
       "      <td>17</td>\n",
       "      <td>102</td>\n",
       "      <td>8</td>\n",
       "      <td>19.000000</td>\n",
       "      <td>6.000000</td>\n",
       "    </tr>\n",
       "    <tr>\n",
       "      <th>4</th>\n",
       "      <td>53</td>\n",
       "      <td>61</td>\n",
       "      <td>2</td>\n",
       "      <td>8.150943</td>\n",
       "      <td>1.150943</td>\n",
       "    </tr>\n",
       "  </tbody>\n",
       "</table>\n",
       "</div>"
      ],
      "text/plain": [
       "   bus  travel_time  traffic_jams    inteval       int\n",
       "0   14          105             7  19.500000  7.500000\n",
       "1   39           25             7  12.641026  0.641026\n",
       "2   57           88             6  12.543860  1.543860\n",
       "3   17          102             8  19.000000  6.000000\n",
       "4   53           61             2   8.150943  1.150943"
      ]
     },
     "execution_count": 41,
     "metadata": {},
     "output_type": "execute_result"
    }
   ],
   "source": [
    "# Создаем новый признак int, это будет теоретический интервал, который и фигурирует в нашей зависимости:\n",
    "# inteval = travel_time / bus + traffic_jams + 5 = int + traffic_jams + 5\n",
    "\n",
    "data['int'] = data['travel_time'] / data['bus']\n",
    "data.head(5)"
   ]
  },
  {
   "cell_type": "code",
   "execution_count": 42,
   "metadata": {},
   "outputs": [
    {
     "name": "stdout",
     "output_type": "stream",
     "text": [
      "Weights: [1. 1.]\n",
      "Bias: 4.999999999999997\n",
      "Error: 1.290523243824282e-15\n"
     ]
    }
   ],
   "source": [
    "# постоим модель на двух признаках  'int', 'traffic_jams'\n",
    "\n",
    "X = data[['int', 'traffic_jams']]\n",
    "y = data['inteval']\n",
    "reg = LinearRegression().fit(X, y)\n",
    "print('Weights: {}'.format(reg.coef_))\n",
    "print('Bias: {}'.format(reg.intercept_))\n",
    "\n",
    "pred_values = reg.predict(data[['int','traffic_jams']])\n",
    "print('Error: {}'.format(mean_absolute_error(pred_values, y)))"
   ]
  },
  {
   "cell_type": "markdown",
   "metadata": {},
   "source": [
    "Видим, что теперь модель абсолютно точно предсказала коэффициенты линейной зависимости и ошибка предсказания практически равна нулю."
   ]
  },
  {
   "cell_type": "code",
   "execution_count": null,
   "metadata": {},
   "outputs": [],
   "source": []
  },
  {
   "cell_type": "code",
   "execution_count": null,
   "metadata": {},
   "outputs": [],
   "source": []
  },
  {
   "cell_type": "code",
   "execution_count": null,
   "metadata": {},
   "outputs": [],
   "source": []
  }
 ],
 "metadata": {
  "kernelspec": {
   "display_name": "Python 3",
   "language": "python",
   "name": "python3"
  },
  "language_info": {
   "codemirror_mode": {
    "name": "ipython",
    "version": 3
   },
   "file_extension": ".py",
   "mimetype": "text/x-python",
   "name": "python",
   "nbconvert_exporter": "python",
   "pygments_lexer": "ipython3",
   "version": "3.8.8"
  }
 },
 "nbformat": 4,
 "nbformat_minor": 4
}
